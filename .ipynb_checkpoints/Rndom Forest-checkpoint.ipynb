{
 "cells": [
  {
   "cell_type": "code",
   "execution_count": 4,
   "metadata": {},
   "outputs": [
    {
     "data": {
      "text/plain": [
       "'C:\\\\spark\\\\spark-2.3.3-bin-hadoop2.7'"
      ]
     },
     "execution_count": 4,
     "metadata": {},
     "output_type": "execute_result"
    }
   ],
   "source": [
    "import findspark\n",
    "findspark.init()\n",
    "findspark.find()"
   ]
  },
  {
   "cell_type": "code",
   "execution_count": 5,
   "metadata": {},
   "outputs": [
    {
     "data": {
      "text/plain": [
       "'C:\\\\spark\\\\spark-2.3.3-bin-hadoop2.7'"
      ]
     },
     "execution_count": 5,
     "metadata": {},
     "output_type": "execute_result"
    }
   ],
   "source": [
    "import pyspark\n",
    "findspark.find()"
   ]
  },
  {
   "cell_type": "code",
   "execution_count": 6,
   "metadata": {},
   "outputs": [],
   "source": [
    "from pyspark.sql.session import SparkSession\n",
    "spark = SparkSession.builder.appName(\"spark_airport\").getOrCreate()"
   ]
  },
  {
   "cell_type": "code",
   "execution_count": 45,
   "metadata": {},
   "outputs": [],
   "source": [
    "from pyspark.sql import SQLContext\n",
    "import pyspark.sql.types as typ\n",
    "import pandas as pd\n",
    "import numpy as np\n",
    "import matplotlib as mpl\n",
    "import matplotlib.pyplot as plt\n",
    "import pyspark.mllib.stat as st\n",
    "import pyspark.mllib.linalg as ln"
   ]
  },
  {
   "cell_type": "code",
   "execution_count": 46,
   "metadata": {},
   "outputs": [],
   "source": [
    "midata = spark.read.csv('./train.csv', header = 'true', inferSchema = 'true', sep = ','  )  "
   ]
  },
  {
   "cell_type": "code",
   "execution_count": 48,
   "metadata": {},
   "outputs": [],
   "source": [
    "midata = midata.dropna(subset=[\"TotalBsmtSF\",\"OverallQual\",\"1stFlrSF\",\"GrLivArea\",\"GarageArea\"])"
   ]
  },
  {
   "cell_type": "code",
   "execution_count": 50,
   "metadata": {},
   "outputs": [],
   "source": [
    "import pyspark.ml.feature as ft\n",
    "import pyspark.sql.types as typ\n",
    "midata = midata.withColumn('YearBuilt', midata['YearBuilt'].cast(typ.DoubleType()))\n",
    "midata = midata.withColumn('SalePrice', midata['SalePrice'].cast(typ.DoubleType()))\n",
    "midata = midata.withColumn('TotalBsmtSF', midata['TotalBsmtSF'].cast(typ.DoubleType()))\n",
    "midata = midata.withColumn('OverallQual', midata['OverallQual'].cast(typ.DoubleType()))\n",
    "midata = midata.withColumn('1stFlrSF', midata['1stFlrSF'].cast(typ.DoubleType()))\n",
    "midata = midata.withColumn('GrLivArea', midata['GrLivArea'].cast(typ.DoubleType()))\n",
    "midata = midata.withColumn('GarageArea', midata['GarageArea'].cast(typ.DoubleType()))"
   ]
  },
  {
   "cell_type": "code",
   "execution_count": 78,
   "metadata": {},
   "outputs": [],
   "source": [
    "from pyspark.ml import Pipeline\n",
    "from pyspark.mllib.linalg import Vectors\n",
    "from pyspark.ml.feature import VectorAssembler\n",
    "from pyspark.ml.evaluation import RegressionEvaluator\n",
    "from pyspark.ml.regression import RandomForestRegressionModel, RandomForestRegressor\n",
    "import pyspark.ml.feature as ft\n"
   ]
  },
  {
   "cell_type": "code",
   "execution_count": 64,
   "metadata": {},
   "outputs": [],
   "source": [
    "featuresCreator =VectorAssembler( inputCols=[\"TotalBsmtSF\",\"OverallQual\",\"GrLivArea\",\"GarageArea\"],outputCol='Independent Feature')"
   ]
  },
  {
   "cell_type": "code",
   "execution_count": 65,
   "metadata": {},
   "outputs": [],
   "source": [
    "train_data,test_data=midata.randomSplit([0.80,0.20])\n",
    "    "
   ]
  },
  {
   "cell_type": "code",
   "execution_count": 67,
   "metadata": {},
   "outputs": [],
   "source": [
    "rf =RandomForestRegressor( labelCol='SalePrice' ,featuresCol='Independent Feature' )"
   ]
  },
  {
   "cell_type": "code",
   "execution_count": 68,
   "metadata": {},
   "outputs": [],
   "source": [
    "pipeline = Pipeline(stages=[ featuresCreator, rf])"
   ]
  },
  {
   "cell_type": "code",
   "execution_count": 69,
   "metadata": {},
   "outputs": [],
   "source": [
    "model = pipeline.fit(train_data)"
   ]
  },
  {
   "cell_type": "code",
   "execution_count": 70,
   "metadata": {},
   "outputs": [],
   "source": [
    "predictions = model.transform(train_data)"
   ]
  },
  {
   "cell_type": "code",
   "execution_count": 80,
   "metadata": {},
   "outputs": [
    {
     "name": "stdout",
     "output_type": "stream",
     "text": [
      "+------------------+---------+--------------------+\n",
      "|        prediction|SalePrice| Independent Feature|\n",
      "+------------------+---------+--------------------+\n",
      "|158452.07953545262| 181500.0|[1262.0,6.0,1262....|\n",
      "|206247.14421722566| 223500.0|[920.0,7.0,1786.0...|\n",
      "| 199046.2474836985| 140000.0|[756.0,7.0,1717.0...|\n",
      "| 296509.1679755335| 250000.0|[1145.0,8.0,2198....|\n",
      "|130959.95031471385| 143000.0|[796.0,5.0,1362.0...|\n",
      "|281811.55664080096| 307000.0|[1686.0,8.0,1694....|\n",
      "|230205.12183697446| 200000.0|[1107.0,7.0,2090....|\n",
      "|189345.03432608713| 129900.0|[952.0,7.0,1774.0...|\n",
      "|123732.23114342176| 118000.0|[991.0,5.0,1077.0...|\n",
      "| 130631.4441774739| 129500.0|[1040.0,5.0,1040....|\n",
      "|332143.36986245593| 345000.0|[1175.0,9.0,2324....|\n",
      "|127734.03988490494| 144000.0|[912.0,5.0,912.0,...|\n",
      "|235235.33979655002| 279500.0|[1494.0,7.0,1494....|\n",
      "|143443.69391206355| 157000.0|[1253.0,6.0,1253....|\n",
      "|164996.31530013826| 132000.0|[832.0,7.0,854.0,...|\n",
      "|139772.71406934402| 149000.0|[1004.0,6.0,1004....|\n",
      "|117595.05522043316|  90000.0|[0.0,4.0,1296.0,5...|\n",
      "|141628.29289144592| 159000.0|[1114.0,5.0,1114....|\n",
      "|132948.63171746343| 139000.0|[1029.0,5.0,1339....|\n",
      "|  303492.955258339| 325300.0|[1158.0,8.0,2376....|\n",
      "+------------------+---------+--------------------+\n",
      "only showing top 20 rows\n",
      "\n"
     ]
    }
   ],
   "source": [
    "predictions.select(\"prediction\", \"SalePrice\", \"Independent Feature\").show()"
   ]
  },
  {
   "cell_type": "code",
   "execution_count": 81,
   "metadata": {},
   "outputs": [],
   "source": [
    "evaluator = RegressionEvaluator(labelCol='SalePrice', predictionCol ='prediction',metricName = 'rmse')"
   ]
  },
  {
   "cell_type": "markdown",
   "metadata": {},
   "source": [
    "Error cuadratico medio mide el promedio de los errores al cuadrado, es decir, la diferencia entre el estimador y lo que se estima"
   ]
  },
  {
   "cell_type": "code",
   "execution_count": 83,
   "metadata": {},
   "outputs": [
    {
     "name": "stdout",
     "output_type": "stream",
     "text": [
      "MSE: 28960.758\n"
     ]
    }
   ],
   "source": [
    "rmse = evaluator.evaluate(predictions, {evaluator.metricName: \"rmse\"})\n",
    "print(\"MSE: %.3f\" % rmse)"
   ]
  },
  {
   "cell_type": "markdown",
   "metadata": {},
   "source": [
    "El coeficiente de determinacion determina la calidad del modelo para Predecir los resultados"
   ]
  },
  {
   "cell_type": "code",
   "execution_count": 84,
   "metadata": {},
   "outputs": [
    {
     "name": "stdout",
     "output_type": "stream",
     "text": [
      "r2: 0.869\n"
     ]
    }
   ],
   "source": [
    "r2 = evaluator.evaluate(predictions, {evaluator.metricName: \"r2\"})\n",
    "print(\"r2: %.3f\" %r2)"
   ]
  },
  {
   "cell_type": "code",
   "execution_count": null,
   "metadata": {},
   "outputs": [],
   "source": []
  }
 ],
 "metadata": {
  "kernelspec": {
   "display_name": "Python 3",
   "language": "python",
   "name": "python3"
  },
  "language_info": {
   "codemirror_mode": {
    "name": "ipython",
    "version": 3
   },
   "file_extension": ".py",
   "mimetype": "text/x-python",
   "name": "python",
   "nbconvert_exporter": "python",
   "pygments_lexer": "ipython3",
   "version": "3.7.3"
  }
 },
 "nbformat": 4,
 "nbformat_minor": 2
}
